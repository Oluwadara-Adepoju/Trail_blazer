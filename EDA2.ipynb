{
 "cells": [
  {
   "cell_type": "markdown",
   "id": "d1679a1c-12d4-45fb-a229-4ee72968c054",
   "metadata": {},
   "source": [
    "## Importing the necessary packages"
   ]
  },
  {
   "cell_type": "code",
   "execution_count": 3,
   "id": "37233a99-546e-4705-955a-1803569ccaaf",
   "metadata": {
    "tags": []
   },
   "outputs": [
    {
     "data": {
      "text/html": [
       "<div>\n",
       "<style scoped>\n",
       "    .dataframe tbody tr th:only-of-type {\n",
       "        vertical-align: middle;\n",
       "    }\n",
       "\n",
       "    .dataframe tbody tr th {\n",
       "        vertical-align: top;\n",
       "    }\n",
       "\n",
       "    .dataframe thead th {\n",
       "        text-align: right;\n",
       "    }\n",
       "</style>\n",
       "<table border=\"1\" class=\"dataframe\">\n",
       "  <thead>\n",
       "    <tr style=\"text-align: right;\">\n",
       "      <th></th>\n",
       "      <th>Unnamed: 0</th>\n",
       "      <th>Unnamed: 0.1</th>\n",
       "      <th>Unnamed: 0.1.1</th>\n",
       "      <th>ward</th>\n",
       "      <th>total_households</th>\n",
       "      <th>total_individuals</th>\n",
       "      <th>target</th>\n",
       "      <th>dw_00</th>\n",
       "      <th>dw_01</th>\n",
       "      <th>dw_02</th>\n",
       "      <th>...</th>\n",
       "      <th>pw_08</th>\n",
       "      <th>ADM4_PCODE</th>\n",
       "      <th>lat</th>\n",
       "      <th>lon</th>\n",
       "      <th>NL</th>\n",
       "      <th>source</th>\n",
       "      <th>city</th>\n",
       "      <th>text</th>\n",
       "      <th>state</th>\n",
       "      <th>country</th>\n",
       "    </tr>\n",
       "  </thead>\n",
       "  <tbody>\n",
       "    <tr>\n",
       "      <th>0</th>\n",
       "      <td>0</td>\n",
       "      <td>0</td>\n",
       "      <td>0</td>\n",
       "      <td>41601001: Ward 1</td>\n",
       "      <td>1674.45058</td>\n",
       "      <td>5888.20750</td>\n",
       "      <td>16.773757</td>\n",
       "      <td>0.933841</td>\n",
       "      <td>0.000846</td>\n",
       "      <td>0.005490</td>\n",
       "      <td>...</td>\n",
       "      <td>0.0</td>\n",
       "      <td>ZA4161001</td>\n",
       "      <td>-29.682270</td>\n",
       "      <td>24.734743</td>\n",
       "      <td>0.292039</td>\n",
       "      <td>train</td>\n",
       "      <td>Letsemeng Local Municipality</td>\n",
       "      <td>41601001: Ward 1 Letsemeng Local Municipality</td>\n",
       "      <td>Free State</td>\n",
       "      <td>South Africa</td>\n",
       "    </tr>\n",
       "    <tr>\n",
       "      <th>1</th>\n",
       "      <td>1</td>\n",
       "      <td>1</td>\n",
       "      <td>1</td>\n",
       "      <td>41601002: Ward 2</td>\n",
       "      <td>1736.99230</td>\n",
       "      <td>6735.33812</td>\n",
       "      <td>21.496661</td>\n",
       "      <td>0.696940</td>\n",
       "      <td>0.001253</td>\n",
       "      <td>0.004402</td>\n",
       "      <td>...</td>\n",
       "      <td>0.0</td>\n",
       "      <td>ZA4161002</td>\n",
       "      <td>-29.119311</td>\n",
       "      <td>24.757737</td>\n",
       "      <td>3.207775</td>\n",
       "      <td>train</td>\n",
       "      <td>Letsemeng Local Municipality</td>\n",
       "      <td>41601002: Ward 2 Letsemeng Local Municipality</td>\n",
       "      <td>Free State</td>\n",
       "      <td>South Africa</td>\n",
       "    </tr>\n",
       "    <tr>\n",
       "      <th>2</th>\n",
       "      <td>2</td>\n",
       "      <td>2</td>\n",
       "      <td>2</td>\n",
       "      <td>41601003: Ward 3</td>\n",
       "      <td>2403.57591</td>\n",
       "      <td>7273.04995</td>\n",
       "      <td>10.931425</td>\n",
       "      <td>0.810545</td>\n",
       "      <td>0.004517</td>\n",
       "      <td>0.008891</td>\n",
       "      <td>...</td>\n",
       "      <td>0.0</td>\n",
       "      <td>ZA4161003</td>\n",
       "      <td>-29.142276</td>\n",
       "      <td>25.094093</td>\n",
       "      <td>0.000000</td>\n",
       "      <td>train</td>\n",
       "      <td>Letsemeng Local Municipality</td>\n",
       "      <td>41601003: Ward 3 Letsemeng Local Municipality</td>\n",
       "      <td>Free State</td>\n",
       "      <td>South Africa</td>\n",
       "    </tr>\n",
       "    <tr>\n",
       "      <th>3</th>\n",
       "      <td>3</td>\n",
       "      <td>3</td>\n",
       "      <td>3</td>\n",
       "      <td>41601004: Ward 4</td>\n",
       "      <td>1740.78737</td>\n",
       "      <td>5734.49046</td>\n",
       "      <td>23.119257</td>\n",
       "      <td>0.659914</td>\n",
       "      <td>0.000000</td>\n",
       "      <td>0.006129</td>\n",
       "      <td>...</td>\n",
       "      <td>0.0</td>\n",
       "      <td>ZA4161004</td>\n",
       "      <td>-29.372052</td>\n",
       "      <td>24.942867</td>\n",
       "      <td>2.038778</td>\n",
       "      <td>train</td>\n",
       "      <td>Letsemeng Local Municipality</td>\n",
       "      <td>41601004: Ward 4 Letsemeng Local Municipality</td>\n",
       "      <td>Free State</td>\n",
       "      <td>South Africa</td>\n",
       "    </tr>\n",
       "    <tr>\n",
       "      <th>4</th>\n",
       "      <td>4</td>\n",
       "      <td>4</td>\n",
       "      <td>4</td>\n",
       "      <td>41601005: Ward 5</td>\n",
       "      <td>1730.51451</td>\n",
       "      <td>6657.23835</td>\n",
       "      <td>13.652252</td>\n",
       "      <td>0.950575</td>\n",
       "      <td>0.000655</td>\n",
       "      <td>0.001473</td>\n",
       "      <td>...</td>\n",
       "      <td>0.0</td>\n",
       "      <td>ZA4161005</td>\n",
       "      <td>-29.409381</td>\n",
       "      <td>25.290165</td>\n",
       "      <td>0.000000</td>\n",
       "      <td>train</td>\n",
       "      <td>Letsemeng Local Municipality</td>\n",
       "      <td>41601005: Ward 5 Letsemeng Local Municipality</td>\n",
       "      <td>Free State</td>\n",
       "      <td>South Africa</td>\n",
       "    </tr>\n",
       "  </tbody>\n",
       "</table>\n",
       "<p>5 rows × 71 columns</p>\n",
       "</div>"
      ],
      "text/plain": [
       "   Unnamed: 0  Unnamed: 0.1  Unnamed: 0.1.1              ward  \\\n",
       "0           0             0               0  41601001: Ward 1   \n",
       "1           1             1               1  41601002: Ward 2   \n",
       "2           2             2               2  41601003: Ward 3   \n",
       "3           3             3               3  41601004: Ward 4   \n",
       "4           4             4               4  41601005: Ward 5   \n",
       "\n",
       "   total_households  total_individuals     target     dw_00     dw_01  \\\n",
       "0        1674.45058         5888.20750  16.773757  0.933841  0.000846   \n",
       "1        1736.99230         6735.33812  21.496661  0.696940  0.001253   \n",
       "2        2403.57591         7273.04995  10.931425  0.810545  0.004517   \n",
       "3        1740.78737         5734.49046  23.119257  0.659914  0.000000   \n",
       "4        1730.51451         6657.23835  13.652252  0.950575  0.000655   \n",
       "\n",
       "      dw_02  ...  pw_08  ADM4_PCODE        lat        lon        NL  source  \\\n",
       "0  0.005490  ...    0.0   ZA4161001 -29.682270  24.734743  0.292039   train   \n",
       "1  0.004402  ...    0.0   ZA4161002 -29.119311  24.757737  3.207775   train   \n",
       "2  0.008891  ...    0.0   ZA4161003 -29.142276  25.094093  0.000000   train   \n",
       "3  0.006129  ...    0.0   ZA4161004 -29.372052  24.942867  2.038778   train   \n",
       "4  0.001473  ...    0.0   ZA4161005 -29.409381  25.290165  0.000000   train   \n",
       "\n",
       "                           city  \\\n",
       "0  Letsemeng Local Municipality   \n",
       "1  Letsemeng Local Municipality   \n",
       "2  Letsemeng Local Municipality   \n",
       "3  Letsemeng Local Municipality   \n",
       "4  Letsemeng Local Municipality   \n",
       "\n",
       "                                            text       state       country  \n",
       "0  41601001: Ward 1 Letsemeng Local Municipality  Free State  South Africa  \n",
       "1  41601002: Ward 2 Letsemeng Local Municipality  Free State  South Africa  \n",
       "2  41601003: Ward 3 Letsemeng Local Municipality  Free State  South Africa  \n",
       "3  41601004: Ward 4 Letsemeng Local Municipality  Free State  South Africa  \n",
       "4  41601005: Ward 5 Letsemeng Local Municipality  Free State  South Africa  \n",
       "\n",
       "[5 rows x 71 columns]"
      ]
     },
     "execution_count": 3,
     "metadata": {},
     "output_type": "execute_result"
    }
   ],
   "source": [
    "import numpy as np\n",
    "import pandas as pd\n",
    "import matplotlib.pyplot as plt \n",
    "\n",
    "\n",
    "df = pd.read_csv('data_city.csv')#\n",
    "df.head()"
   ]
  },
  {
   "cell_type": "code",
   "execution_count": 4,
   "id": "d7713fb1-882a-4a8f-bcca-2cc537c9a4ce",
   "metadata": {},
   "outputs": [],
   "source": [
    " df.drop(['Unnamed: 0.1','Unnamed: 0'],axis=1, inplace=True)"
   ]
  },
  {
   "cell_type": "code",
   "execution_count": 5,
   "id": "b2a6d23a-568b-4f75-97fb-f0d71520d873",
   "metadata": {
    "tags": []
   },
   "outputs": [
    {
     "data": {
      "text/plain": [
       "array(['Free State', 'Gauteng', 'KwaZulu-Natal', 'Limpopo', 'Mpumalanga',\n",
       "       'North West', 'Northern Cape', 'Eastern Cape', 'Western Cape'],\n",
       "      dtype=object)"
      ]
     },
     "execution_count": 5,
     "metadata": {},
     "output_type": "execute_result"
    }
   ],
   "source": [
    "df.state.unique()"
   ]
  },
  {
   "cell_type": "code",
   "execution_count": 10,
   "id": "9f3dfea9-023e-4d4b-94b7-1cdae97f592c",
   "metadata": {},
   "outputs": [],
   "source": [
    "group_city = df.groupby([\"state\", \"city\"])\n"
   ]
  },
  {
   "cell_type": "code",
   "execution_count": 11,
   "id": "5ccb5cfe-808a-4ba7-91ee-d5a345ed0490",
   "metadata": {},
   "outputs": [
    {
     "name": "stdout",
     "output_type": "stream",
     "text": [
      "<pandas.core.groupby.generic.DataFrameGroupBy object at 0x000002B57CBED648>\n"
     ]
    }
   ],
   "source": [
    "print(group_city) "
   ]
  },
  {
   "cell_type": "code",
   "execution_count": 13,
   "id": "f976cc2f-cb9a-4448-ae0c-8fb9cbdad324",
   "metadata": {},
   "outputs": [
    {
     "data": {
      "text/plain": [
       "<pandas.core.groupby.generic.DataFrameGroupBy object at 0x000002B57CBED648>"
      ]
     },
     "execution_count": 13,
     "metadata": {},
     "output_type": "execute_result"
    }
   ],
   "source": [
    "group_city"
   ]
  },
  {
   "cell_type": "code",
   "execution_count": null,
   "id": "346b8a53-8ba8-4a97-82e1-ba7d6092f753",
   "metadata": {},
   "outputs": [],
   "source": [
    "import geopandas\n",
    "import geoplot\n",
    "import mapclassify\n",
    "\n",
    "geoplot.choropleth(df,\n",
    "                   hue=\"2018 Population\",\n",
    "                   scheme=mapclassify.Quantiles(df['state'], k=4),\n",
    "                   cmap=\"RdYlBu\", edgecolor=\"white\",\n",
    "                   extent=(-172,10, 10,75),\n",
    "                   legend_labels=[\"Least Populated\", \"Somewhat Populated\", \"Normally Populated\",\"Densely Populated\"],\n",
    "                   legend_kwargs={\"loc\":\"best\",\n",
    "                                  \"fontsize\": \"large\",\n",
    "                                  \"title\":\"Percentage Density\",\n",
    "                                  \"title_fontsize\":\"large\"},\n",
    "                   figsize=(16,8), legend=True);\n",
    "\n",
    "plt.title(\"U\", fontdict={\"fontsize\": 15}, pad=5);"
   ]
  },
  {
   "cell_type": "code",
   "execution_count": null,
   "id": "a1b54feb-e432-47bb-a804-c49ce678b16e",
   "metadata": {},
   "outputs": [],
   "source": []
  }
 ],
 "metadata": {
  "kernelspec": {
   "display_name": "Python 3 (ipykernel)",
   "language": "python",
   "name": "python3"
  },
  "language_info": {
   "codemirror_mode": {
    "name": "ipython",
    "version": 3
   },
   "file_extension": ".py",
   "mimetype": "text/x-python",
   "name": "python",
   "nbconvert_exporter": "python",
   "pygments_lexer": "ipython3",
   "version": "3.7.4"
  }
 },
 "nbformat": 4,
 "nbformat_minor": 5
}
